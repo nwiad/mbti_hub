{
 "cells": [
  {
   "cell_type": "code",
   "execution_count": 11,
   "metadata": {},
   "outputs": [
    {
     "name": "stdout",
     "output_type": "stream",
     "text": [
      "now MBTI type is ENTJ\n",
      "ToMi QA Accuracy: 85.60%\n",
      "now MBTI type is ISTJ\n",
      "ToMi QA Accuracy: 85.75%\n",
      "now MBTI type is INFJ\n",
      "ToMi QA Accuracy: 84.85%\n",
      "now MBTI type is INFP\n",
      "ToMi QA Accuracy: 85.77%\n",
      "now MBTI type is ISTP\n",
      "ToMi QA Accuracy: 87.27%\n",
      "now MBTI type is ISFJ\n",
      "ToMi QA Accuracy: 84.82%\n"
     ]
    },
    {
     "name": "stdout",
     "output_type": "stream",
     "text": [
      "now MBTI type is ISFP\n",
      "ToMi QA Accuracy: 86.27%\n",
      "now MBTI type is ESTJ\n",
      "ToMi QA Accuracy: 84.22%\n",
      "now MBTI type is ESTP\n",
      "ToMi QA Accuracy: 85.54%\n",
      "now MBTI type is INTP\n",
      "ToMi QA Accuracy: 87.14%\n",
      "now MBTI type is ESFJ\n",
      "ToMi QA Accuracy: 84.55%\n",
      "now MBTI type is ENFJ\n",
      "ToMi QA Accuracy: 84.28%\n",
      "now MBTI type is ESFP\n",
      "ToMi QA Accuracy: 84.97%\n",
      "now MBTI type is INTJ\n",
      "ToMi QA Accuracy: 86.20%\n",
      "now MBTI type is ENTP\n",
      "ToMi QA Accuracy: 87.17%\n",
      "now MBTI type is ENFP\n",
      "ToMi QA Accuracy: 84.73%\n",
      "Average ToMi QA Accuracy: 85.57%\n"
     ]
    }
   ],
   "source": [
    "\n",
    "import os\n",
    "import pandas as pd\n",
    "\n",
    "file_foler = '/opt/tiger/dwn-opensource-verl/mbti_hub/output_final/Qwen2.5-7B-Instruct/tomi/multi_profile/words_1000_1024'\n",
    "\n",
    "scores = []\n",
    "for file in os.listdir(file_foler):\n",
    "    if file.endswith('.parquet'):\n",
    "        file_path = os.path.join(file_foler, file)\n",
    "        type = file.split('_')[1]\n",
    "        df = pd.read_parquet(file_path)\n",
    "\n",
    "        correct = [int(g.lower() in p.lower()) for p, g in zip(df['output'], df['answer'])]\n",
    "        accuracy = sum(correct) / len(correct)\n",
    "        print(f\"now MBTI type is {type}\")\n",
    "        scores.append(accuracy)\n",
    "        print(f\"ToMi QA Accuracy: {accuracy:.2%}\")\n",
    "\n",
    "        df['correct'] = correct\n",
    "        df.to_parquet(file_path)\n",
    "\n",
    "average_score = sum(scores) / len(scores)\n",
    "print(f\"Average ToMi QA Accuracy: {average_score:.2%}\")\n"
   ]
  },
  {
   "cell_type": "code",
   "execution_count": 13,
   "metadata": {},
   "outputs": [
    {
     "name": "stdout",
     "output_type": "stream",
     "text": [
      "now MBTI type is ISFP\n",
      "ToMi QA Accuracy: 84.67%\n",
      "now MBTI type is INTP\n",
      "ToMi QA Accuracy: 87.40%\n",
      "now MBTI type is ISTP\n",
      "ToMi QA Accuracy: 86.92%\n",
      "now MBTI type is ENTP\n",
      "ToMi QA Accuracy: 88.07%\n"
     ]
    },
    {
     "name": "stdout",
     "output_type": "stream",
     "text": [
      "now MBTI type is ENFJ\n",
      "ToMi QA Accuracy: 84.08%\n",
      "now MBTI type is ESTP\n",
      "ToMi QA Accuracy: 85.70%\n",
      "now MBTI type is ESFJ\n",
      "ToMi QA Accuracy: 85.10%\n",
      "now MBTI type is ISFJ\n",
      "ToMi QA Accuracy: 84.20%\n",
      "now MBTI type is ENFP\n",
      "ToMi QA Accuracy: 84.07%\n",
      "now MBTI type is ESFP\n",
      "ToMi QA Accuracy: 85.60%\n",
      "Average ToMi QA Accuracy: 85.58%\n"
     ]
    }
   ],
   "source": [
    "import os\n",
    "import pandas as pd\n",
    "\n",
    "file_foler = '/opt/tiger/dwn-opensource-verl/mbti_hub/output_final/Qwen2.5-7B-Instruct/tomi/basemodel'\n",
    "scores = []\n",
    "for file in os.listdir(file_foler):\n",
    "    if file.endswith('.parquet'):\n",
    "        file_path = os.path.join(file_foler, file)\n",
    "        type = file.split('_')[1]\n",
    "        df = pd.read_parquet(file_path)\n",
    "\n",
    "        correct = [int(g.lower() in p.lower()) for p, g in zip(df['output'], df['answer'])]\n",
    "        accuracy = sum(correct) / len(correct)\n",
    "        scores.append(accuracy)\n",
    "        print(f\"now MBTI type is {type}\")\n",
    "        print(f\"ToMi QA Accuracy: {accuracy:.2%}\")\n",
    "        df['correct'] = correct\n",
    "        df.to_parquet(file_path)\n",
    "\n",
    "\n",
    "average_score = sum(scores) / len(scores)\n",
    "print(f\"Average ToMi QA Accuracy: {average_score:.2%}\")"
   ]
  }
 ],
 "metadata": {
  "fileId": "39907d92-5b33-4858-8e06-c83894b96302",
  "filePath": "/opt/tiger/dwn-opensource-verl/mbti_hub/script/tomi_score.ipynb",
  "kernelspec": {
   "display_name": "Python 3",
   "language": "python",
   "name": "python3"
  },
  "language_info": {
   "codemirror_mode": {
    "name": "ipython",
    "version": 3
   },
   "file_extension": ".py",
   "mimetype": "text/x-python",
   "name": "python",
   "nbconvert_exporter": "python",
   "pygments_lexer": "ipython3",
   "version": "3.11.2"
  }
 },
 "nbformat": 4,
 "nbformat_minor": 2
}
